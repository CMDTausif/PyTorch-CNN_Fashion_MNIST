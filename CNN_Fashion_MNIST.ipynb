{
 "cells": [
  {
   "cell_type": "code",
   "execution_count": 2,
   "id": "5da87d8d",
   "metadata": {},
   "outputs": [],
   "source": [
    "import torch\n",
    "import torch.nn as nn\n",
    "import torchvision\n",
    "import torchvision.transforms as transforms\n",
    "import numpy as np\n",
    "import pandas as pd\n",
    "import matplotlib.pyplot as plt\n",
    "from datetime import datetime"
   ]
  },
  {
   "cell_type": "markdown",
   "id": "4f1a5bb2",
   "metadata": {},
   "source": [
    "#### Load the Training data"
   ]
  },
  {
   "cell_type": "code",
   "execution_count": 3,
   "id": "01818a3a",
   "metadata": {},
   "outputs": [],
   "source": [
    "train_dataset = torchvision.datasets.FashionMNIST(\n",
    "                \n",
    "    root=\".\",\n",
    "    train = True,\n",
    "    transform = transforms.ToTensor(),\n",
    "    download=True\n",
    "\n",
    ")"
   ]
  },
  {
   "cell_type": "code",
   "execution_count": 4,
   "id": "271ad8bf",
   "metadata": {},
   "outputs": [
    {
     "data": {
      "text/plain": [
       "torch.Size([60000, 28, 28])"
      ]
     },
     "execution_count": 4,
     "metadata": {},
     "output_type": "execute_result"
    }
   ],
   "source": [
    "train_dataset.data.shape"
   ]
  },
  {
   "cell_type": "code",
   "execution_count": 5,
   "id": "9a0444d6",
   "metadata": {},
   "outputs": [
    {
     "data": {
      "text/plain": [
       "tensor(255, dtype=torch.uint8)"
      ]
     },
     "execution_count": 5,
     "metadata": {},
     "output_type": "execute_result"
    }
   ],
   "source": [
    "train_dataset.data.max()"
   ]
  },
  {
   "cell_type": "code",
   "execution_count": 6,
   "id": "b0577051",
   "metadata": {},
   "outputs": [
    {
     "data": {
      "text/plain": [
       "tensor([9, 0, 0,  ..., 3, 0, 5])"
      ]
     },
     "execution_count": 6,
     "metadata": {},
     "output_type": "execute_result"
    }
   ],
   "source": [
    "train_dataset.targets"
   ]
  },
  {
   "cell_type": "markdown",
   "id": "f1d12746",
   "metadata": {},
   "source": [
    "#### Loading The Testing Data"
   ]
  },
  {
   "cell_type": "code",
   "execution_count": 7,
   "id": "1547100d",
   "metadata": {},
   "outputs": [],
   "source": [
    "test_dataset = torchvision.datasets.FashionMNIST(\n",
    "\n",
    "    root=\".\",\n",
    "    train = False,\n",
    "    transform = transforms.ToTensor(),\n",
    "    download=True\n",
    ")"
   ]
  },
  {
   "cell_type": "code",
   "execution_count": 8,
   "id": "e1b8c6aa",
   "metadata": {},
   "outputs": [
    {
     "name": "stdout",
     "output_type": "stream",
     "text": [
      "Number of Classes:  10\n"
     ]
    }
   ],
   "source": [
    "### number of classes\n",
    "K = len(set(train_dataset.targets.numpy()))\n",
    "print(\"Number of Classes: \", K)"
   ]
  },
  {
   "cell_type": "code",
   "execution_count": 9,
   "id": "89d892a5",
   "metadata": {},
   "outputs": [],
   "source": [
    "### defining the model\n",
    "class CNN(nn.Module):\n",
    "    def __init__(self, K):\n",
    "        super(CNN, self).__init__()\n",
    "        self.conv_layers=nn.Sequential(\n",
    "        nn.Conv2d(in_channels=1, out_channels=32, kernel_size=3, stride=2),\n",
    "        nn.ReLU(),\n",
    "        nn.Conv2d(in_channels=32, out_channels=64, kernel_size=3, stride=2),\n",
    "        nn.ReLU(),\n",
    "        nn.Conv2d(in_channels=64, out_channels=128, kernel_size=3, stride=2),\n",
    "        nn.ReLU()\n",
    "        )\n",
    "        \n",
    "        self.dense_layers = nn.Sequential(\n",
    "        nn.Dropout(0.2),\n",
    "        nn.Linear(128 *2 *2, 512),\n",
    "        nn.ReLU(),\n",
    "        nn.Dropout(0.2),\n",
    "        nn.Linear(512, K)\n",
    "        )\n",
    "        \n",
    "    def forward(self, X):\n",
    "        out = self.conv_layers(X) # passing inputs\n",
    "        out = out.view(out.size(0), -1) ## reshaping the outputs\n",
    "        out = self.dense_layers(out)\n",
    "        return out"
   ]
  },
  {
   "cell_type": "code",
   "execution_count": 10,
   "id": "1197a75d",
   "metadata": {},
   "outputs": [],
   "source": [
    "## Instantiating the model\n",
    "model = CNN(K)"
   ]
  },
  {
   "cell_type": "code",
   "execution_count": 11,
   "id": "6c8c21a1",
   "metadata": {},
   "outputs": [],
   "source": [
    "## The same model using the newly introduced \"Flatten\"\n",
    "\n",
    "# model = nn.Sequential(\n",
    "\n",
    "#         nn.Conv2d(in_channels=1, out_channels=32, kernel_size=3, stride=2),\n",
    "#         nn.ReLU(),\n",
    "#         nn.Conv2d(in_channels=32, out_channels=64, kernel_size=3, stride=2),\n",
    "#         nn.ReLU(),\n",
    "#         nn.Conv2d(in_channels=64, out_channels=128, kernel_size=3, stride=2),\n",
    "#         nn.ReLU(),\n",
    "#         nn.Flatten(),\n",
    "#         nn.Dropout(0.2),\n",
    "#         nn.Linear(128 *2 *2, 512),\n",
    "#         nn.ReLU(),\n",
    "#         nn.Dropout(),\n",
    "#         nn.Linear(512, K)\n",
    "        \n",
    "\n",
    "# )"
   ]
  },
  {
   "cell_type": "code",
   "execution_count": 12,
   "id": "f68bc30f",
   "metadata": {},
   "outputs": [
    {
     "name": "stdout",
     "output_type": "stream",
     "text": [
      "cuda:0\n"
     ]
    },
    {
     "data": {
      "text/plain": [
       "CNN(\n",
       "  (conv_layers): Sequential(\n",
       "    (0): Conv2d(1, 32, kernel_size=(3, 3), stride=(2, 2))\n",
       "    (1): ReLU()\n",
       "    (2): Conv2d(32, 64, kernel_size=(3, 3), stride=(2, 2))\n",
       "    (3): ReLU()\n",
       "    (4): Conv2d(64, 128, kernel_size=(3, 3), stride=(2, 2))\n",
       "    (5): ReLU()\n",
       "  )\n",
       "  (dense_layers): Sequential(\n",
       "    (0): Dropout(p=0.2, inplace=False)\n",
       "    (1): Linear(in_features=512, out_features=512, bias=True)\n",
       "    (2): ReLU()\n",
       "    (3): Dropout(p=0.2, inplace=False)\n",
       "    (4): Linear(in_features=512, out_features=10, bias=True)\n",
       "  )\n",
       ")"
      ]
     },
     "execution_count": 12,
     "metadata": {},
     "output_type": "execute_result"
    }
   ],
   "source": [
    "device = torch.device(\"cuda:0\" if torch.cuda.is_available() else \"cpu\")\n",
    "print(device)\n",
    "model.to(device)"
   ]
  },
  {
   "cell_type": "code",
   "execution_count": 13,
   "id": "95c7638c",
   "metadata": {},
   "outputs": [],
   "source": [
    "## Loss and optimizer\n",
    "criterion = nn.CrossEntropyLoss()\n",
    "optimizer = torch.optim.Adam(model.parameters())"
   ]
  },
  {
   "cell_type": "code",
   "execution_count": 14,
   "id": "46241e40",
   "metadata": {},
   "outputs": [],
   "source": [
    "## Dataloader\n",
    "\n",
    "batch_size = 128\n",
    "train_loader = torch.utils.data.DataLoader(dataset = train_dataset, batch_size = batch_size, shuffle= True)\n",
    "test_loader = torch.utils.data.DataLoader(dataset = test_dataset, batch_size= batch_size, shuffle= False)"
   ]
  },
  {
   "cell_type": "code",
   "execution_count": 15,
   "id": "125059e6",
   "metadata": {},
   "outputs": [],
   "source": [
    "## a function o encapsulate the training loop\n",
    "def batch_gd(model, criterion, optimizer, train_loader, test_loader, epochs):\n",
    "    train_losses = np.zeros(epochs)\n",
    "    test_losses = np.zeros(epochs)\n",
    "    \n",
    "    for i in range(epochs):\n",
    "        t0 = datetime.now()\n",
    "        train_loss = []\n",
    "        for inputs, targets in train_loader:\n",
    "            ## move data to gpu\n",
    "            inputs, targets = inputs.to(device), targets.to(device)\n",
    "            \n",
    "            \n",
    "            ##zero the parameter gradient\n",
    "            optimizer.zero_grad()\n",
    "            \n",
    "            ## forward pass\n",
    "            outputs = model(inputs)\n",
    "            loss = criterion(outputs, targets)\n",
    "            \n",
    "            ##backward and optimize\n",
    "            loss.backward()\n",
    "            optimizer.step()\n",
    "            \n",
    "            train_loss.append(loss.item())    \n",
    "        ## get the train loss and test loss\n",
    "        train_loss = np.mean(train_loss) \n",
    "        \n",
    "        test_loss = []\n",
    "        for inputs, targets in test_loader:\n",
    "            ## move data to gpu\n",
    "            inputs, targets = inputs.to(device), targets.to(device)        \n",
    "            ## forward pass\n",
    "            outputs = model(inputs)\n",
    "            loss = criterion(outputs, targets)\n",
    "         \n",
    "            test_loss.append(loss.item())    \n",
    "        test_loss = np.mean(test_loss)\n",
    "        \n",
    "        ## saving the losses\n",
    "        train_losses[i] = train_loss\n",
    "        test_losses[i] = test_loss\n",
    "        \n",
    "        dt = datetime.now() - t0\n",
    "        print(f'Epoch {i+1}/{epochs}, Train_loss: {train_loss:.4f}, \\  Test_loss: {test_loss:.4f}, Duration: {dt}')\n",
    "        \n",
    "    return train_losses, test_losses"
   ]
  },
  {
   "cell_type": "code",
   "execution_count": 16,
   "id": "f2deeed2",
   "metadata": {},
   "outputs": [
    {
     "name": "stdout",
     "output_type": "stream",
     "text": [
      "Epoch 1/15, Train_loss: 0.6522, \\  Test_loss: 0.4873, Duration: 0:00:29.387569\n",
      "Epoch 2/15, Train_loss: 0.4255, \\  Test_loss: 0.4199, Duration: 0:00:14.574255\n",
      "Epoch 3/15, Train_loss: 0.3675, \\  Test_loss: 0.3710, Duration: 0:00:13.676289\n",
      "Epoch 4/15, Train_loss: 0.3368, \\  Test_loss: 0.3531, Duration: 0:00:13.936072\n",
      "Epoch 5/15, Train_loss: 0.3085, \\  Test_loss: 0.3466, Duration: 0:00:14.159825\n",
      "Epoch 6/15, Train_loss: 0.2854, \\  Test_loss: 0.3323, Duration: 0:00:15.087860\n",
      "Epoch 7/15, Train_loss: 0.2682, \\  Test_loss: 0.3197, Duration: 0:00:15.801186\n",
      "Epoch 8/15, Train_loss: 0.2501, \\  Test_loss: 0.3195, Duration: 0:00:13.947899\n",
      "Epoch 9/15, Train_loss: 0.2358, \\  Test_loss: 0.3095, Duration: 0:00:14.130688\n",
      "Epoch 10/15, Train_loss: 0.2216, \\  Test_loss: 0.3075, Duration: 0:00:14.040400\n",
      "Epoch 11/15, Train_loss: 0.2077, \\  Test_loss: 0.3237, Duration: 0:00:13.388874\n",
      "Epoch 12/15, Train_loss: 0.1968, \\  Test_loss: 0.3116, Duration: 0:00:13.092145\n",
      "Epoch 13/15, Train_loss: 0.1834, \\  Test_loss: 0.3231, Duration: 0:00:13.574540\n",
      "Epoch 14/15, Train_loss: 0.1749, \\  Test_loss: 0.3286, Duration: 0:00:14.128795\n",
      "Epoch 15/15, Train_loss: 0.1664, \\  Test_loss: 0.3205, Duration: 0:00:13.517648\n"
     ]
    }
   ],
   "source": [
    "train_losses, test_losses = batch_gd(model, criterion, optimizer, train_loader, test_loader, epochs= 15)"
   ]
  },
  {
   "cell_type": "code",
   "execution_count": 17,
   "id": "57d63ef8",
   "metadata": {},
   "outputs": [
    {
     "data": {
      "image/png": "[encoded data removed]",
      "text/plain": [
       "<Figure size 432x288 with 1 Axes>"
      ]
     },
     "metadata": {
      "needs_background": "light"
     },
     "output_type": "display_data"
    }
   ],
   "source": [
    " ## plot the train loss and test loss per iteration\n",
    "plt.plot(train_losses, label=\"train loss\")\n",
    "plt.plot(test_losses, label=\"test loss\")\n",
    "plt.legend()\n",
    "plt.show()"
   ]
  },
  {
   "cell_type": "code",
   "execution_count": 18,
   "id": "a00ad1a0",
   "metadata": {},
   "outputs": [
    {
     "name": "stdout",
     "output_type": "stream",
     "text": [
      "Train acc: 0.9445, Test_acc: 0.8958\n"
     ]
    }
   ],
   "source": [
    "## accuracy\n",
    "n_correct = 0\n",
    "n_total = 0\n",
    "\n",
    "for inputs, targets in train_loader:\n",
    "  ## move data to gpu\n",
    "  inputs, targets = inputs.to(device), targets.to(device)\n",
    "\n",
    "  ## forward pass\n",
    "  outputs = model(inputs)\n",
    "\n",
    "  ## get the prediction\n",
    "  ## torch.max returns both max and argmax\n",
    "  _, predictions = torch.max(outputs, 1) \n",
    "\n",
    "  ## update the counts\n",
    "  n_correct += (predictions == targets).sum().item()\n",
    "  n_total += targets.shape[0]\n",
    "train_acc = n_correct / n_total\n",
    "\n",
    "n_correct = 0\n",
    "n_total = 0\n",
    "\n",
    "for inputs, targets in test_loader:\n",
    "  ## move data to gpu\n",
    "  inputs, targets = inputs.to(device), targets.to(device)\n",
    "\n",
    "  ## forward pass\n",
    "  outputs = model(inputs)\n",
    "\n",
    "  ## get the prediction\n",
    "  ## torch.max returns both max and argmax\n",
    "  _, predictions = torch.max(outputs, 1) \n",
    "\n",
    "  ## update the counts\n",
    "  n_correct += (predictions == targets).sum().item()\n",
    "  n_total += targets.shape[0]\n",
    "\n",
    "test_acc = n_correct / n_total\n",
    "\n",
    "\n",
    "print(f\"Train acc: {train_acc:.4f}, Test_acc: {test_acc:.4f}\")"
   ]
  },
  {
   "cell_type": "code",
   "execution_count": 19,
   "id": "d043f82a",
   "metadata": {},
   "outputs": [],
   "source": [
    "#plot the confusion matrix\n",
    "from sklearn.metrics import confusion_matrix\n",
    "import numpy as np\n",
    "import itertools\n",
    "\n",
    "def plot_confusion_matrix(cm, classes, normalize=False, title=\"Confusion_matrix\", cmap=plt.cm.Blues):\n",
    "    \"\"\"\n",
    "    This function prints and plots the confusion matrix\n",
    "    Normalization can be applied by normalize=True\n",
    "    \"\"\"\n",
    "    if normalize:\n",
    "        cm  = cm.astype(\"float\")/cm.sum(axis=1)[:, np.newaxis]\n",
    "        print(\"Normalized Confusion Matrix\")\n",
    "    else:\n",
    "        print(\"Confusion matrix without normalization\")\n",
    "        \n",
    "    print(cm)\n",
    "    \n",
    "    plt.imshow(cm, interpolation=\"nearest\", cmap=cmap)\n",
    "    plt.title(title)\n",
    "    plt.colorbar()\n",
    "    tick_marks = np.arange(len(classes))\n",
    "    plt.xticks(tick_marks, classes, rotation=45)\n",
    "    plt.yticks(tick_marks, classes)\n",
    "    \n",
    "    \n",
    "    fmt = \".2f\" if normalize else 'd'\n",
    "    thresh = cm.max() / 2.\n",
    "    for i, j in itertools.product(range(cm.shape[0]), range(cm.shape[1])):\n",
    "        plt.text(j, i, format(cm[i, j], fmt),\n",
    "                horizontalalignment = \"center\",\n",
    "                color=\"white\" if cm[i,j]>thresh else \"black\" )\n",
    "    plt.tight_layout()\n",
    "    plt.ylabel(\"True label\")\n",
    "    plt.xlabel(\"Predicted Label\")\n",
    "    plt.show()"
   ]
  },
  {
   "cell_type": "code",
   "execution_count": 20,
   "id": "f78551b8",
   "metadata": {},
   "outputs": [],
   "source": [
    "# get all predictions in an array and plot the confusion matrix\n",
    "x_test = test_dataset.data.numpy()\n",
    "y_test = test_dataset.targets.numpy()\n",
    "p_test = np.array([])\n",
    "\n",
    "# for inputs, targets in test_loader:\n",
    "#     inputs = inputs.to(device)\n",
    "#     targets = targets.to(device)\n",
    "    \n",
    "#     inputs = inputs.view(-1, 784)\n",
    "    \n",
    "#     #forward pass\n",
    "#     outputs = model(inputs)\n",
    "    \n",
    "#     #get prediction\n",
    "#     _, predictions = torch.max(outputs, 1)\n",
    "    \n",
    "#     # update p test\n",
    "#     p_test = np.concatenate((p_test, predictions.cpu().numpy()))\n",
    "\n",
    "# cm = confusion_matrix(y_test, p_test)\n",
    "# plot_confusion_matrix(cm, list(range(10)))"
   ]
  },
  {
   "cell_type": "code",
   "execution_count": 21,
   "id": "a866dec3",
   "metadata": {},
   "outputs": [],
   "source": [
    "## label mapping\n",
    "labels = '''T-shirt/top\n",
    "Trouser\n",
    "Pullover\n",
    "Dress\n",
    "Coat\n",
    "Sandal\n",
    "Shirt\n",
    "Sneaker\n",
    "Bag\n",
    "Ankle Boot'''.split(\"\\n\")"
   ]
  },
  {
   "cell_type": "code",
   "execution_count": 25,
   "id": "2585e54c",
   "metadata": {},
   "outputs": [
    {
     "name": "stderr",
     "output_type": "stream",
     "text": [
      "C:\\Users\\Tausif\\anaconda3\\envs\\onlyPytorch\\lib\\site-packages\\ipykernel_launcher.py:3: DeprecationWarning: elementwise comparison failed; this will raise an error in the future.\n",
      "  This is separate from the ipykernel package so we can avoid doing imports until\n"
     ]
    },
    {
     "data": {
      "image/png": "[encoded data removed]",
      "text/plain": [
       "<Figure size 432x288 with 1 Axes>"
      ]
     },
     "metadata": {
      "needs_background": "light"
     },
     "output_type": "display_data"
    }
   ],
   "source": [
    "p_test = np.concatenate((p_test, predictions.cpu().numpy()))\n",
    "p_test = p_test.astype(np.uint8)\n",
    "mis_class_idx = np.where(p_test != y_test)[0]\n",
    "i = np.random.choice(mis_class_idx)\n",
    "plt.imshow(x_test[i].reshape(28, 28), cmap='gray')\n",
    "plt.title(\"True Label: %s Predicted: %s\" % (labels[y_test[i]], labels[p_test[i]]));"
   ]
  },
  {
   "cell_type": "code",
   "execution_count": 26,
   "id": "147af794",
   "metadata": {},
   "outputs": [],
   "source": [
    "import jovian"
   ]
  },
  {
   "cell_type": "code",
   "execution_count": 28,
   "id": "b6f4daf3",
   "metadata": {},
   "outputs": [
    {
     "data": {
      "application/javascript": [
       "window.require && require([\"base/js/namespace\"],function(Jupyter){Jupyter.notebook.save_checkpoint()})"
      ],
      "text/plain": [
       "<IPython.core.display.Javascript object>"
      ]
     },
     "metadata": {},
     "output_type": "display_data"
    },
    {
     "name": "stdout",
     "output_type": "stream",
     "text": [
      "[jovian] Updating notebook \"mdtausifc/cnn-fashion-mnist\" on https://jovian.ai/\u001b[0m\n",
      "[jovian] Committed successfully! https://jovian.ai/mdtausifc/cnn-fashion-mnist\u001b[0m\n"
     ]
    },
    {
     "data": {
      "text/plain": [
       "'https://jovian.ai/mdtausifc/cnn-fashion-mnist'"
      ]
     },
     "execution_count": 28,
     "metadata": {},
     "output_type": "execute_result"
    }
   ],
   "source": [
    "jovian.commit(project=(\"CNN Fashion MNIST\"))"
   ]
  },
  {
   "cell_type": "code",
   "execution_count": null,
   "id": "11c897b2",
   "metadata": {},
   "outputs": [],
   "source": []
  }
 ],
 "metadata": {
  "kernelspec": {
   "display_name": "Python 3 (ipykernel)",
   "language": "python",
   "name": "python3"
  },
  "language_info": {
   "codemirror_mode": {
    "name": "ipython",
    "version": 3
   },
   "file_extension": ".py",
   "mimetype": "text/x-python",
   "name": "python",
   "nbconvert_exporter": "python",
   "pygments_lexer": "ipython3",
   "version": "3.7.6"
  }
 },
 "nbformat": 4,
 "nbformat_minor": 5
}
